{
 "cells": [
  {
   "cell_type": "code",
   "execution_count": 13,
   "metadata": {},
   "outputs": [],
   "source": [
    "import pandas as pd"
   ]
  },
  {
   "cell_type": "markdown",
   "metadata": {},
   "source": [
    "#### Import do dataset"
   ]
  },
  {
   "cell_type": "code",
   "execution_count": 2,
   "metadata": {},
   "outputs": [],
   "source": [
    "df_estoque = pd.read_csv('estoque.csv')"
   ]
  },
  {
   "cell_type": "code",
   "execution_count": 3,
   "metadata": {},
   "outputs": [],
   "source": [
    "df_estoque['CLUSTER'] = ''\n",
    "df_estoque['PORTE'] = ''"
   ]
  },
  {
   "cell_type": "markdown",
   "metadata": {},
   "source": [
    "#### Tratamento dos dados"
   ]
  },
  {
   "cell_type": "markdown",
   "metadata": {},
   "source": [
    "Trata NA para 0 nos campos de valor"
   ]
  },
  {
   "cell_type": "code",
   "execution_count": 4,
   "metadata": {},
   "outputs": [],
   "source": [
    "df_estoque['VENDA'] = df_estoque['VENDA'].fillna(0) \n",
    "df_estoque['VENDA_QTD'] = df_estoque['VENDA_QTD'].fillna(0) \n",
    "df_estoque['AVG_ESTOQUE_VLR'] = df_estoque['AVG_ESTOQUE_VLR'].fillna(0) \n",
    "df_estoque['AVG_ESTOQUE_QTD'] = df_estoque['AVG_ESTOQUE_QTD'].fillna(0) "
   ]
  },
  {
   "cell_type": "markdown",
   "metadata": {},
   "source": [
    "Cria um dataframe com as medianas das colunas de valores para substituir os valores negativos pela mediana do cluster"
   ]
  },
  {
   "cell_type": "code",
   "execution_count": 5,
   "metadata": {},
   "outputs": [],
   "source": [
    "colunas_interesse = ['AVG_ESTOQUE_VLR', 'AVG_ESTOQUE_QTD', 'VENDA_QTD', 'VENDA']\n",
    "mediana_df = df_estoque.groupby(['CLUSTER'])[colunas_interesse].quantile(0.5).reset_index()"
   ]
  },
  {
   "cell_type": "markdown",
   "metadata": {},
   "source": [
    "Sempre que o valor da coluna for negativo, ele será substituido pela mediana do cluster, o objetivo é não ter valores negativos na base de dados."
   ]
  },
  {
   "cell_type": "code",
   "execution_count": 6,
   "metadata": {},
   "outputs": [],
   "source": [
    "for col in colunas_interesse:\n",
    "    mask = df_estoque[col] < 0\n",
    "    df_estoque.loc[mask, col] = df_estoque.loc[mask, 'CLUSTER'].map(mediana_df.set_index('CLUSTER')[col])\n"
   ]
  },
  {
   "cell_type": "markdown",
   "metadata": {},
   "source": [
    "### Calculo da venda média diária"
   ]
  },
  {
   "cell_type": "markdown",
   "metadata": {},
   "source": [
    "Uma das metas necessárias é a venda média diária, por isso ela é calculada a partir da venda realizada dos ultimos 90 dias"
   ]
  },
  {
   "cell_type": "markdown",
   "metadata": {},
   "source": [
    "Uma premissa assumida é que para os meses de janeiro e fevereiro foi considerado a mesma venda média de março onde já se tem 90 dias para cálculo."
   ]
  },
  {
   "cell_type": "code",
   "execution_count": 18,
   "metadata": {},
   "outputs": [],
   "source": [
    "# Ordenando o DataFrame pela coluna 'DATA'\n",
    "\n",
    "df = df_estoque.sort_values(['ESTRUTURA_OPER4', 'COD_ESTRUTURA_MERC2', 'ESTRUTURA_OPER0', 'DATA'])\n",
    "df['DATA'] = pd.to_datetime(df['DATA'], format='%Y-%m-%d')\n",
    "df['MES_DIA'] = df['DATA'].dt.strftime('%m-%d')\n",
    "\n",
    "# Calculando a soma dos valores de venda e venda_qtd nos últimos 3 meses para cada grupo\n",
    "df['SOMA_VENDA_3_MESES'] = df.groupby(['ESTRUTURA_OPER4', 'COD_ESTRUTURA_MERC2', 'ESTRUTURA_OPER0'])['VENDA'].transform(lambda x: x.rolling(window=3, min_periods=1).sum())\n",
    "df['SOMA_VENDA_QTD_3_MESES'] = df.groupby(['ESTRUTURA_OPER4', 'COD_ESTRUTURA_MERC2', 'ESTRUTURA_OPER0'])['VENDA_QTD'].transform(lambda x: x.rolling(window=3, min_periods=1).sum())\n",
    "\n",
    "# Obtendo os valores correspondentes à data '2022-03-01' para cada grupo\n",
    "values_marco = df.loc[df['MES_DIA'] == '03-01', ['ESTRUTURA_OPER4', 'COD_ESTRUTURA_MERC2', 'ESTRUTURA_OPER0', 'SOMA_VENDA_3_MESES', 'SOMA_VENDA_QTD_3_MESES']]\n",
    "\n",
    "# Substituindo os valores de 'SOMA_VENDA_3_MESES' e 'SOMA_VENDA_QTD_3_MESES' nas datas de janeiro e feveiro pelos valores de março\n",
    "df['SOMA_VENDA_3_MESES'] = df.apply(\n",
    "    lambda row: values_marco[(values_marco['ESTRUTURA_OPER4'] == row['ESTRUTURA_OPER4']) & \n",
    "                                  (values_marco['COD_ESTRUTURA_MERC2'] == row['COD_ESTRUTURA_MERC2']) & \n",
    "                                  (values_marco['ESTRUTURA_OPER0'] == row['ESTRUTURA_OPER0'])]['SOMA_VENDA_3_MESES'].values[0]\n",
    "    if row['MES_DIA'] in ['01-01', '02-01'] else row['SOMA_VENDA_3_MESES'],\n",
    "    axis=1\n",
    ")\n",
    "\n",
    "df['SOMA_VENDA_QTD_3_MESES'] = df.apply(\n",
    "    lambda row: values_marco[(values_marco['ESTRUTURA_OPER4'] == row['ESTRUTURA_OPER4']) & \n",
    "                                  (values_marco['COD_ESTRUTURA_MERC2'] == row['COD_ESTRUTURA_MERC2']) & \n",
    "                                  (values_marco['ESTRUTURA_OPER0'] == row['ESTRUTURA_OPER0'])]['SOMA_VENDA_QTD_3_MESES'].values[0]\n",
    "    if row['MES_DIA'] in ['01-01', '02-01'] else row['SOMA_VENDA_QTD_3_MESES'],\n",
    "    axis=1\n",
    ")\n",
    "\n",
    "# Calculando a média diária considerando a soma dos valores de venda e venda_qtd nos últimos 3 meses\n",
    "df['AVG_VND_DIARIA_VLR'] = df['SOMA_VENDA_3_MESES'] / 90\n",
    "df['AVG_VND_DIARIA_QTD'] = df['SOMA_VENDA_QTD_3_MESES'] / 90\n",
    "\n",
    "df = df.drop(['SOMA_VENDA_3_MESES', 'SOMA_VENDA_QTD_3_MESES', 'MES_DIA'], axis=1, errors='ignore')\n",
    "df_estoque = df"
   ]
  },
  {
   "cell_type": "markdown",
   "metadata": {},
   "source": [
    "#### Calculo das metas para os cenários Conservador, Realista e Agressivo"
   ]
  },
  {
   "cell_type": "markdown",
   "metadata": {},
   "source": [
    "O cenário conservador é o valor do segundo quartil. <br>\n",
    "O cenário realista é o valor do terceiro quartil.<br>\n",
    "O cenário agressivo é o valor do valor máximo do cluster."
   ]
  },
  {
   "cell_type": "code",
   "execution_count": null,
   "metadata": {},
   "outputs": [],
   "source": [
    "# Define os quartis desejados\n",
    "quantis = [0.50, 0.75, 1]\n",
    "\n",
    "colunas_interesse = ['AVG_ESTOQUE_VLR', 'AVG_ESTOQUE_QTD', 'AVG_VND_DIARIA_VLR','AVG_VND_DIARIA_QTD']\n",
    "\n",
    "# Agrupa o DataFrame pelos grupos desejados e calcule os quantis\n",
    "quartis_df = df_estoque.groupby(['CLUSTER', 'DATA'])[colunas_interesse].quantile(quantis).unstack()"
   ]
  },
  {
   "cell_type": "code",
   "execution_count": null,
   "metadata": {},
   "outputs": [],
   "source": [
    "# Renomeia as colunas para indicar o quartil\n",
    "quartis_df.columns = [f'{col[0]}_q{int(col[1]*100)}' for col in quartis_df.columns]"
   ]
  },
  {
   "cell_type": "code",
   "execution_count": null,
   "metadata": {},
   "outputs": [
    {
     "data": {
      "text/html": [
       "<div>\n",
       "<style scoped>\n",
       "    .dataframe tbody tr th:only-of-type {\n",
       "        vertical-align: middle;\n",
       "    }\n",
       "\n",
       "    .dataframe tbody tr th {\n",
       "        vertical-align: top;\n",
       "    }\n",
       "\n",
       "    .dataframe thead th {\n",
       "        text-align: right;\n",
       "    }\n",
       "</style>\n",
       "<table border=\"1\" class=\"dataframe\">\n",
       "  <thead>\n",
       "    <tr style=\"text-align: right;\">\n",
       "      <th></th>\n",
       "      <th></th>\n",
       "      <th>AVG_ESTOQUE_VLR_q50</th>\n",
       "      <th>AVG_ESTOQUE_VLR_q75</th>\n",
       "      <th>AVG_ESTOQUE_VLR_q100</th>\n",
       "      <th>AVG_ESTOQUE_QTD_q50</th>\n",
       "      <th>AVG_ESTOQUE_QTD_q75</th>\n",
       "      <th>AVG_ESTOQUE_QTD_q100</th>\n",
       "      <th>AVG_VND_DIARIA_VLR_q50</th>\n",
       "      <th>AVG_VND_DIARIA_VLR_q75</th>\n",
       "      <th>AVG_VND_DIARIA_VLR_q100</th>\n",
       "      <th>AVG_VND_DIARIA_QTD_q50</th>\n",
       "      <th>AVG_VND_DIARIA_QTD_q75</th>\n",
       "      <th>AVG_VND_DIARIA_QTD_q100</th>\n",
       "    </tr>\n",
       "    <tr>\n",
       "      <th>CLUSTER</th>\n",
       "      <th>DATA</th>\n",
       "      <th></th>\n",
       "      <th></th>\n",
       "      <th></th>\n",
       "      <th></th>\n",
       "      <th></th>\n",
       "      <th></th>\n",
       "      <th></th>\n",
       "      <th></th>\n",
       "      <th></th>\n",
       "      <th></th>\n",
       "      <th></th>\n",
       "      <th></th>\n",
       "    </tr>\n",
       "  </thead>\n",
       "  <tbody>\n",
       "    <tr>\n",
       "      <th rowspan=\"12\" valign=\"top\"></th>\n",
       "      <th>2022-01-01</th>\n",
       "      <td>41.678687</td>\n",
       "      <td>135.033860</td>\n",
       "      <td>133260.330455</td>\n",
       "      <td>4.934750</td>\n",
       "      <td>16.612028</td>\n",
       "      <td>6696.000000</td>\n",
       "      <td>11.602389</td>\n",
       "      <td>187.766583</td>\n",
       "      <td>142146.114778</td>\n",
       "      <td>0.755556</td>\n",
       "      <td>18.385014</td>\n",
       "      <td>28010.866667</td>\n",
       "    </tr>\n",
       "    <tr>\n",
       "      <th>2022-02-01</th>\n",
       "      <td>41.678687</td>\n",
       "      <td>127.815898</td>\n",
       "      <td>63478.015909</td>\n",
       "      <td>4.934750</td>\n",
       "      <td>15.537226</td>\n",
       "      <td>6696.000000</td>\n",
       "      <td>11.356556</td>\n",
       "      <td>186.779306</td>\n",
       "      <td>142146.114778</td>\n",
       "      <td>0.744444</td>\n",
       "      <td>18.247181</td>\n",
       "      <td>28010.866667</td>\n",
       "    </tr>\n",
       "    <tr>\n",
       "      <th>2022-03-01</th>\n",
       "      <td>41.678687</td>\n",
       "      <td>123.388093</td>\n",
       "      <td>121045.398696</td>\n",
       "      <td>4.934750</td>\n",
       "      <td>14.670483</td>\n",
       "      <td>8370.434783</td>\n",
       "      <td>11.243833</td>\n",
       "      <td>186.043444</td>\n",
       "      <td>142146.114778</td>\n",
       "      <td>0.733333</td>\n",
       "      <td>18.107261</td>\n",
       "      <td>28010.866667</td>\n",
       "    </tr>\n",
       "    <tr>\n",
       "      <th>2022-04-01</th>\n",
       "      <td>41.678687</td>\n",
       "      <td>118.350038</td>\n",
       "      <td>70412.670000</td>\n",
       "      <td>4.934750</td>\n",
       "      <td>13.860837</td>\n",
       "      <td>6696.000000</td>\n",
       "      <td>11.446833</td>\n",
       "      <td>190.803250</td>\n",
       "      <td>132396.121333</td>\n",
       "      <td>0.744444</td>\n",
       "      <td>18.475000</td>\n",
       "      <td>27810.422222</td>\n",
       "    </tr>\n",
       "    <tr>\n",
       "      <th>2022-05-01</th>\n",
       "      <td>41.678687</td>\n",
       "      <td>120.477174</td>\n",
       "      <td>128911.673333</td>\n",
       "      <td>4.934750</td>\n",
       "      <td>14.431472</td>\n",
       "      <td>11126.200000</td>\n",
       "      <td>11.500000</td>\n",
       "      <td>195.604889</td>\n",
       "      <td>156456.099111</td>\n",
       "      <td>0.733333</td>\n",
       "      <td>18.433333</td>\n",
       "      <td>28115.266667</td>\n",
       "    </tr>\n",
       "    <tr>\n",
       "      <th>2022-06-01</th>\n",
       "      <td>41.678687</td>\n",
       "      <td>117.373199</td>\n",
       "      <td>66411.485417</td>\n",
       "      <td>4.934750</td>\n",
       "      <td>13.908034</td>\n",
       "      <td>6606.000000</td>\n",
       "      <td>12.446111</td>\n",
       "      <td>199.365889</td>\n",
       "      <td>171325.576444</td>\n",
       "      <td>0.777778</td>\n",
       "      <td>18.050000</td>\n",
       "      <td>23010.522222</td>\n",
       "    </tr>\n",
       "    <tr>\n",
       "      <th>2022-07-01</th>\n",
       "      <td>41.678687</td>\n",
       "      <td>114.405000</td>\n",
       "      <td>132871.716250</td>\n",
       "      <td>4.934750</td>\n",
       "      <td>13.792535</td>\n",
       "      <td>14100.833333</td>\n",
       "      <td>12.762278</td>\n",
       "      <td>204.869417</td>\n",
       "      <td>167066.920333</td>\n",
       "      <td>0.800000</td>\n",
       "      <td>18.058333</td>\n",
       "      <td>20202.288889</td>\n",
       "    </tr>\n",
       "    <tr>\n",
       "      <th>2022-08-01</th>\n",
       "      <td>41.678687</td>\n",
       "      <td>107.012748</td>\n",
       "      <td>56143.190000</td>\n",
       "      <td>4.934750</td>\n",
       "      <td>12.764706</td>\n",
       "      <td>6606.000000</td>\n",
       "      <td>12.500556</td>\n",
       "      <td>201.648500</td>\n",
       "      <td>148255.888889</td>\n",
       "      <td>0.766667</td>\n",
       "      <td>17.683333</td>\n",
       "      <td>19491.077778</td>\n",
       "    </tr>\n",
       "    <tr>\n",
       "      <th>2022-09-01</th>\n",
       "      <td>49.858643</td>\n",
       "      <td>160.939329</td>\n",
       "      <td>90231.147055</td>\n",
       "      <td>5.818711</td>\n",
       "      <td>22.610034</td>\n",
       "      <td>5137.130631</td>\n",
       "      <td>13.631889</td>\n",
       "      <td>209.630444</td>\n",
       "      <td>130655.550667</td>\n",
       "      <td>0.866667</td>\n",
       "      <td>18.642003</td>\n",
       "      <td>16948.711111</td>\n",
       "    </tr>\n",
       "    <tr>\n",
       "      <th>2022-10-01</th>\n",
       "      <td>44.282066</td>\n",
       "      <td>153.464271</td>\n",
       "      <td>116139.774667</td>\n",
       "      <td>5.000000</td>\n",
       "      <td>21.255319</td>\n",
       "      <td>8471.013333</td>\n",
       "      <td>12.930000</td>\n",
       "      <td>212.858000</td>\n",
       "      <td>129071.641778</td>\n",
       "      <td>0.833333</td>\n",
       "      <td>19.322222</td>\n",
       "      <td>16808.166667</td>\n",
       "    </tr>\n",
       "    <tr>\n",
       "      <th>2022-11-01</th>\n",
       "      <td>56.428786</td>\n",
       "      <td>190.150285</td>\n",
       "      <td>157049.421237</td>\n",
       "      <td>6.494681</td>\n",
       "      <td>27.911409</td>\n",
       "      <td>18477.969072</td>\n",
       "      <td>12.394889</td>\n",
       "      <td>217.513806</td>\n",
       "      <td>134781.439333</td>\n",
       "      <td>0.777778</td>\n",
       "      <td>19.920508</td>\n",
       "      <td>19095.522222</td>\n",
       "    </tr>\n",
       "    <tr>\n",
       "      <th>2022-12-01</th>\n",
       "      <td>98.225750</td>\n",
       "      <td>269.929825</td>\n",
       "      <td>198987.975529</td>\n",
       "      <td>12.513797</td>\n",
       "      <td>39.285714</td>\n",
       "      <td>26666.823529</td>\n",
       "      <td>35.786222</td>\n",
       "      <td>341.741000</td>\n",
       "      <td>121360.117111</td>\n",
       "      <td>2.811111</td>\n",
       "      <td>30.733333</td>\n",
       "      <td>21333.622222</td>\n",
       "    </tr>\n",
       "  </tbody>\n",
       "</table>\n",
       "</div>"
      ],
      "text/plain": [
       "                    AVG_ESTOQUE_VLR_q50  AVG_ESTOQUE_VLR_q75  \\\n",
       "CLUSTER DATA                                                   \n",
       "        2022-01-01            41.678687           135.033860   \n",
       "        2022-02-01            41.678687           127.815898   \n",
       "        2022-03-01            41.678687           123.388093   \n",
       "        2022-04-01            41.678687           118.350038   \n",
       "        2022-05-01            41.678687           120.477174   \n",
       "        2022-06-01            41.678687           117.373199   \n",
       "        2022-07-01            41.678687           114.405000   \n",
       "        2022-08-01            41.678687           107.012748   \n",
       "        2022-09-01            49.858643           160.939329   \n",
       "        2022-10-01            44.282066           153.464271   \n",
       "        2022-11-01            56.428786           190.150285   \n",
       "        2022-12-01            98.225750           269.929825   \n",
       "\n",
       "                    AVG_ESTOQUE_VLR_q100  AVG_ESTOQUE_QTD_q50  \\\n",
       "CLUSTER DATA                                                    \n",
       "        2022-01-01         133260.330455             4.934750   \n",
       "        2022-02-01          63478.015909             4.934750   \n",
       "        2022-03-01         121045.398696             4.934750   \n",
       "        2022-04-01          70412.670000             4.934750   \n",
       "        2022-05-01         128911.673333             4.934750   \n",
       "        2022-06-01          66411.485417             4.934750   \n",
       "        2022-07-01         132871.716250             4.934750   \n",
       "        2022-08-01          56143.190000             4.934750   \n",
       "        2022-09-01          90231.147055             5.818711   \n",
       "        2022-10-01         116139.774667             5.000000   \n",
       "        2022-11-01         157049.421237             6.494681   \n",
       "        2022-12-01         198987.975529            12.513797   \n",
       "\n",
       "                    AVG_ESTOQUE_QTD_q75  AVG_ESTOQUE_QTD_q100  \\\n",
       "CLUSTER DATA                                                    \n",
       "        2022-01-01            16.612028           6696.000000   \n",
       "        2022-02-01            15.537226           6696.000000   \n",
       "        2022-03-01            14.670483           8370.434783   \n",
       "        2022-04-01            13.860837           6696.000000   \n",
       "        2022-05-01            14.431472          11126.200000   \n",
       "        2022-06-01            13.908034           6606.000000   \n",
       "        2022-07-01            13.792535          14100.833333   \n",
       "        2022-08-01            12.764706           6606.000000   \n",
       "        2022-09-01            22.610034           5137.130631   \n",
       "        2022-10-01            21.255319           8471.013333   \n",
       "        2022-11-01            27.911409          18477.969072   \n",
       "        2022-12-01            39.285714          26666.823529   \n",
       "\n",
       "                    AVG_VND_DIARIA_VLR_q50  AVG_VND_DIARIA_VLR_q75  \\\n",
       "CLUSTER DATA                                                         \n",
       "        2022-01-01               11.602389              187.766583   \n",
       "        2022-02-01               11.356556              186.779306   \n",
       "        2022-03-01               11.243833              186.043444   \n",
       "        2022-04-01               11.446833              190.803250   \n",
       "        2022-05-01               11.500000              195.604889   \n",
       "        2022-06-01               12.446111              199.365889   \n",
       "        2022-07-01               12.762278              204.869417   \n",
       "        2022-08-01               12.500556              201.648500   \n",
       "        2022-09-01               13.631889              209.630444   \n",
       "        2022-10-01               12.930000              212.858000   \n",
       "        2022-11-01               12.394889              217.513806   \n",
       "        2022-12-01               35.786222              341.741000   \n",
       "\n",
       "                    AVG_VND_DIARIA_VLR_q100  AVG_VND_DIARIA_QTD_q50  \\\n",
       "CLUSTER DATA                                                          \n",
       "        2022-01-01            142146.114778                0.755556   \n",
       "        2022-02-01            142146.114778                0.744444   \n",
       "        2022-03-01            142146.114778                0.733333   \n",
       "        2022-04-01            132396.121333                0.744444   \n",
       "        2022-05-01            156456.099111                0.733333   \n",
       "        2022-06-01            171325.576444                0.777778   \n",
       "        2022-07-01            167066.920333                0.800000   \n",
       "        2022-08-01            148255.888889                0.766667   \n",
       "        2022-09-01            130655.550667                0.866667   \n",
       "        2022-10-01            129071.641778                0.833333   \n",
       "        2022-11-01            134781.439333                0.777778   \n",
       "        2022-12-01            121360.117111                2.811111   \n",
       "\n",
       "                    AVG_VND_DIARIA_QTD_q75  AVG_VND_DIARIA_QTD_q100  \n",
       "CLUSTER DATA                                                         \n",
       "        2022-01-01               18.385014             28010.866667  \n",
       "        2022-02-01               18.247181             28010.866667  \n",
       "        2022-03-01               18.107261             28010.866667  \n",
       "        2022-04-01               18.475000             27810.422222  \n",
       "        2022-05-01               18.433333             28115.266667  \n",
       "        2022-06-01               18.050000             23010.522222  \n",
       "        2022-07-01               18.058333             20202.288889  \n",
       "        2022-08-01               17.683333             19491.077778  \n",
       "        2022-09-01               18.642003             16948.711111  \n",
       "        2022-10-01               19.322222             16808.166667  \n",
       "        2022-11-01               19.920508             19095.522222  \n",
       "        2022-12-01               30.733333             21333.622222  "
      ]
     },
     "execution_count": 64,
     "metadata": {},
     "output_type": "execute_result"
    }
   ],
   "source": [
    "quartis_df"
   ]
  },
  {
   "cell_type": "code",
   "execution_count": null,
   "metadata": {},
   "outputs": [],
   "source": [
    "# Reset index para tornar os grupos como colunas novamente\n",
    "quartis_df = quartis_df.reset_index()\n",
    "\n",
    "# Junta os quartis de volta ao DataFrame original\n",
    "df_estoque = pd.merge(df_estoque, quartis_df, on=[ 'CLUSTER', 'DATA'])"
   ]
  },
  {
   "cell_type": "markdown",
   "metadata": {},
   "source": [
    "Cria um dataframe com valores minimos para as colunas de interesse, isso é usado para garantir que as metas não serão negativas"
   ]
  },
  {
   "cell_type": "code",
   "execution_count": null,
   "metadata": {},
   "outputs": [],
   "source": [
    "# Agrupa o DataFrame pelos grupos desejados e encontra o valor maximo\n",
    "min = df_estoque[(df_estoque['AVG_ESTOQUE_VLR']>=0) & (df_estoque['AVG_ESTOQUE_QTD']>=0) & (df_estoque['AVG_VND_DIARIA_VLR']>=0) & (df_estoque['AVG_VND_DIARIA_QTD']>=0)]\n",
    "min= min.groupby(['CLUSTER', 'DATA',])[colunas_interesse].min()\n",
    "\n",
    "# Renomeia as colunas para indicar o quartil\n",
    "min.columns = [f'{col}_MIN' for col in min.columns]\n",
    "\n",
    "# Reset index para tornar os grupos como colunas novamente\n",
    "min = min.reset_index()"
   ]
  },
  {
   "cell_type": "code",
   "execution_count": null,
   "metadata": {},
   "outputs": [],
   "source": [
    "# Junta os minimos  ao DataFrame original\n",
    "df_estoque = pd.merge(df_estoque, min, on=[ 'CLUSTER','DATA'])"
   ]
  },
  {
   "cell_type": "markdown",
   "metadata": {},
   "source": [
    "#### Cria as colunas de metas"
   ]
  },
  {
   "cell_type": "markdown",
   "metadata": {},
   "source": [
    "É feita uma análise das metas sugeridas, caso o valor realizado seja menor que a meta sugerida é mantido o valor realizado como meta"
   ]
  },
  {
   "cell_type": "code",
   "execution_count": null,
   "metadata": {},
   "outputs": [],
   "source": [
    "#Cria as colunas de metas se a meta sugerida for menor que zero utiliza o mínimo do cluster\n",
    "df_estoque['META_ESTOQUE_VLR_CONSERVADOR'] = df_estoque.apply(lambda x: x['AVG_ESTOQUE_VLR_MIN'] if x['AVG_ESTOQUE_VLR_q100']< 0 else x['AVG_ESTOQUE_VLR_q100'], axis=1)\n",
    "df_estoque['META_ESTOQUE_QTD_CONSERVADOR'] = df_estoque.apply(lambda x: x['AVG_ESTOQUE_QTD_MIN'] if x['AVG_ESTOQUE_QTD_q100']< 0 else x['AVG_ESTOQUE_QTD_q100'], axis=1)\n",
    "df_estoque['META_ESTOQUE_VND_MEDIA_DIARIA_VLR_CONSERVADOR'] = df_estoque.apply(lambda x: x['AVG_VND_DIARIA_VLR_MIN'] if x['AVG_VND_DIARIA_VLR_q100']< 0 else x['AVG_VND_DIARIA_VLR_q100'], axis=1)\n",
    "df_estoque['META_ESTOQUE_VND_MEDIA_DIARIA_QTD_CONSERVADOR'] = df_estoque.apply(lambda x: x['AVG_VND_DIARIA_QTD_MIN'] if x['AVG_VND_DIARIA_QTD_q100']< 0 else x['AVG_VND_DIARIA_QTD_q100'], axis=1)"
   ]
  },
  {
   "cell_type": "code",
   "execution_count": null,
   "metadata": {},
   "outputs": [],
   "source": [
    "#Cria as colunas de metas se a meta sugerida for menor que zero utiliza o mínimo do cluster\n",
    "df_estoque['META_ESTOQUE_VLR_CONSERVADOR'] = df_estoque.apply(lambda x: x['AVG_ESTOQUE_VLR'] if (x['META_ESTOQUE_VLR_CONSERVADOR']> x['AVG_ESTOQUE_VLR']) and (x['AVG_ESTOQUE_VLR'] >= 0) else x['META_ESTOQUE_VLR_CONSERVADOR'], axis=1)\n",
    "df_estoque['META_ESTOQUE_QTD_CONSERVADOR'] = df_estoque.apply(lambda x: x['AVG_ESTOQUE_QTD'] if (x['META_ESTOQUE_QTD_CONSERVADOR']> x['AVG_ESTOQUE_QTD']) and (x['AVG_ESTOQUE_QTD']>= 0) else x['META_ESTOQUE_QTD_CONSERVADOR'], axis=1)\n",
    "df_estoque['META_ESTOQUE_VND_MEDIA_DIARIA_VLR_CONSERVADOR'] = df_estoque.apply(lambda x: x['AVG_VND_DIARIA_VLR'] if (x['META_ESTOQUE_VND_MEDIA_DIARIA_VLR_CONSERVADOR']> x['AVG_VND_DIARIA_VLR']) and (x['AVG_VND_DIARIA_VLR']>=0) else x['META_ESTOQUE_VND_MEDIA_DIARIA_VLR_CONSERVADOR'], axis=1)\n",
    "df_estoque['META_ESTOQUE_VND_MEDIA_DIARIA_QTD_CONSERVADOR'] = df_estoque.apply(lambda x: x['AVG_VND_DIARIA_QTD']  if (x['META_ESTOQUE_VND_MEDIA_DIARIA_QTD_CONSERVADOR']> x['AVG_VND_DIARIA_QTD']) and (x['AVG_VND_DIARIA_QTD']>=0) else x['META_ESTOQUE_VND_MEDIA_DIARIA_QTD_CONSERVADOR'], axis=1)"
   ]
  },
  {
   "cell_type": "code",
   "execution_count": null,
   "metadata": {},
   "outputs": [],
   "source": [
    "#Cria as colunas de metas se a meta sugerida for menor que zero utiliza o mínimo do cluster\n",
    "df_estoque['META_ESTOQUE_VLR_REALISTA'] = df_estoque.apply(lambda x: x['AVG_ESTOQUE_VLR_MIN'] if x['AVG_ESTOQUE_VLR_q75']< 0 else x['AVG_ESTOQUE_VLR_q75'], axis=1)\n",
    "df_estoque['META_ESTOQUE_QTD_REALISTA'] = df_estoque.apply(lambda x: x['AVG_ESTOQUE_QTD_MIN'] if x['AVG_ESTOQUE_QTD_q75']< 0 else x['AVG_ESTOQUE_QTD_q75'], axis=1)\n",
    "df_estoque['META_ESTOQUE_VND_MEDIA_DIARIA_VLR_REALISTA'] = df_estoque.apply(lambda x: x['AVG_VND_DIARIA_VLR_MIN'] if x['AVG_VND_DIARIA_VLR_q75']< 0 else x['AVG_VND_DIARIA_VLR_q75'], axis=1)\n",
    "df_estoque['META_ESTOQUE_VND_MEDIA_DIARIA_QTD_REALISTA'] = df_estoque.apply(lambda x: x['AVG_VND_DIARIA_QTD_MIN'] if x['AVG_VND_DIARIA_QTD_q75']< 0 else x['AVG_VND_DIARIA_QTD_q75'], axis=1)"
   ]
  },
  {
   "cell_type": "code",
   "execution_count": null,
   "metadata": {},
   "outputs": [],
   "source": [
    "#Cria as colunas de metas se a meta sugerida for menor que zero utiliza o mínimo do cluster\n",
    "df_estoque['META_ESTOQUE_VLR_REALISTA'] = df_estoque.apply(lambda x: x['AVG_ESTOQUE_VLR'] if (x['META_ESTOQUE_VLR_REALISTA']> x['AVG_ESTOQUE_VLR']) and (x['AVG_ESTOQUE_VLR'] >= 0) else x['META_ESTOQUE_VLR_REALISTA'], axis=1)\n",
    "df_estoque['META_ESTOQUE_QTD_REALISTA'] = df_estoque.apply(lambda x: x['AVG_ESTOQUE_QTD'] if (x['META_ESTOQUE_QTD_REALISTA']> x['AVG_ESTOQUE_QTD']) and (x['AVG_ESTOQUE_QTD']>= 0) else x['META_ESTOQUE_QTD_REALISTA'], axis=1)\n",
    "df_estoque['META_ESTOQUE_VND_MEDIA_DIARIA_VLR_REALISTA'] = df_estoque.apply(lambda x: x['AVG_VND_DIARIA_VLR'] if (x['META_ESTOQUE_VND_MEDIA_DIARIA_VLR_REALISTA']> x['AVG_VND_DIARIA_VLR']) and (x['AVG_VND_DIARIA_VLR']>=0) else x['META_ESTOQUE_VND_MEDIA_DIARIA_VLR_REALISTA'], axis=1)\n",
    "df_estoque['META_ESTOQUE_VND_MEDIA_DIARIA_QTD_REALISTA'] = df_estoque.apply(lambda x: x['AVG_VND_DIARIA_QTD']  if (x['META_ESTOQUE_VND_MEDIA_DIARIA_QTD_REALISTA']> x['AVG_VND_DIARIA_QTD']) and (x['AVG_VND_DIARIA_QTD']>=0) else x['META_ESTOQUE_VND_MEDIA_DIARIA_QTD_REALISTA'], axis=1)"
   ]
  },
  {
   "cell_type": "code",
   "execution_count": null,
   "metadata": {},
   "outputs": [],
   "source": [
    "#Cria as colunas de metas se a meta sugerida for menor que zero utiliza o mínimo do cluster\n",
    "df_estoque['META_ESTOQUE_VLR_AGRESSIVO'] = df_estoque.apply(lambda x: x['AVG_ESTOQUE_VLR_MIN'] if x['AVG_ESTOQUE_VLR_q50']< 0 else x['AVG_ESTOQUE_VLR_q50'], axis=1)\n",
    "df_estoque['META_ESTOQUE_QTD_AGRESSIVO'] = df_estoque.apply(lambda x: x['AVG_ESTOQUE_QTD_MIN'] if x['AVG_ESTOQUE_QTD_q50']< 0 else x['AVG_ESTOQUE_QTD_q50'], axis=1)\n",
    "df_estoque['META_ESTOQUE_VND_MEDIA_DIARIA_VLR_AGRESSIVO'] = df_estoque.apply(lambda x: x['AVG_VND_DIARIA_VLR_MIN'] if x['AVG_VND_DIARIA_VLR_q50']< 0 else x['AVG_VND_DIARIA_VLR_q50'], axis=1)\n",
    "df_estoque['META_ESTOQUE_VND_MEDIA_DIARIA_QTD_AGRESSIVO'] = df_estoque.apply(lambda x: x['AVG_VND_DIARIA_QTD_MIN'] if x['AVG_VND_DIARIA_QTD_q50']< 0 else x['AVG_VND_DIARIA_QTD_q50'], axis=1)"
   ]
  },
  {
   "cell_type": "code",
   "execution_count": null,
   "metadata": {},
   "outputs": [],
   "source": [
    "#Cria as colunas de metas se a meta sugerida for menor que zero utiliza o mínimo do cluster\n",
    "df_estoque['META_ESTOQUE_VLR_AGRESSIVO'] = df_estoque.apply(lambda x: x['AVG_ESTOQUE_VLR'] if (x['META_ESTOQUE_VLR_AGRESSIVO']> x['AVG_ESTOQUE_VLR']) and (x['AVG_ESTOQUE_VLR'] >= 0) else x['META_ESTOQUE_VLR_AGRESSIVO'], axis=1)\n",
    "df_estoque['META_ESTOQUE_QTD_AGRESSIVO'] = df_estoque.apply(lambda x: x['AVG_ESTOQUE_QTD'] if (x['META_ESTOQUE_QTD_AGRESSIVO']> x['AVG_ESTOQUE_QTD']) and (x['AVG_ESTOQUE_QTD']>= 0) else x['META_ESTOQUE_QTD_AGRESSIVO'], axis=1)\n",
    "df_estoque['META_ESTOQUE_VND_MEDIA_DIARIA_VLR_AGRESSIVO'] = df_estoque.apply(lambda x: x['AVG_VND_DIARIA_VLR'] if (x['META_ESTOQUE_VND_MEDIA_DIARIA_VLR_AGRESSIVO']> x['AVG_VND_DIARIA_VLR']) and (x['AVG_VND_DIARIA_VLR']>=0) else x['META_ESTOQUE_VND_MEDIA_DIARIA_VLR_AGRESSIVO'], axis=1)\n",
    "df_estoque['META_ESTOQUE_VND_MEDIA_DIARIA_QTD_AGRESSIVO'] = df_estoque.apply(lambda x: x['AVG_VND_DIARIA_QTD']  if (x['META_ESTOQUE_VND_MEDIA_DIARIA_QTD_AGRESSIVO']> x['AVG_VND_DIARIA_QTD']) and (x['AVG_VND_DIARIA_QTD']>=0) else x['META_ESTOQUE_VND_MEDIA_DIARIA_QTD_AGRESSIVO'], axis=1)"
   ]
  },
  {
   "cell_type": "markdown",
   "metadata": {},
   "source": [
    "Selecionando somente as colunas necessárias para o dataframe final"
   ]
  },
  {
   "cell_type": "code",
   "execution_count": null,
   "metadata": {},
   "outputs": [],
   "source": [
    "#Cria um dataframe apenas com as colunas necessarias\n",
    "df_estoque = df_estoque[['ESTRUTURA_OPER0', 'ESTRUTURA_OPER1', 'ESTRUTURA_OPER1','PORTE','COD_ESTRUTURA_OPER4','ESTRUTURA_OPER4', 'COD_ESTRUTURA_MERC2','DATA','AVG_ESTOQUE_VLR', 'AVG_ESTOQUE_QTD', 'AVG_VND_DIARIA_VLR', 'AVG_VND_DIARIA_QTD', 'META_ESTOQUE_VLR_CONSERVADOR','META_ESTOQUE_QTD_CONSERVADOR','META_ESTOQUE_VND_MEDIA_DIARIA_VLR_CONSERVADOR', 'META_ESTOQUE_VND_MEDIA_DIARIA_QTD_CONSERVADOR', 'META_ESTOQUE_VLR_REALISTA','META_ESTOQUE_QTD_REALISTA','META_ESTOQUE_VND_MEDIA_DIARIA_VLR_REALISTA', 'META_ESTOQUE_VND_MEDIA_DIARIA_QTD_REALISTA', 'META_ESTOQUE_VLR_AGRESSIVO','META_ESTOQUE_QTD_AGRESSIVO','META_ESTOQUE_VND_MEDIA_DIARIA_VLR_AGRESSIVO', 'META_ESTOQUE_VND_MEDIA_DIARIA_QTD_AGRESSIVO'] ]"
   ]
  },
  {
   "cell_type": "code",
   "execution_count": null,
   "metadata": {},
   "outputs": [],
   "source": [
    "#Adicionar 1 ano a data atual\n",
    "df_estoque['DATA'] = pd.to_datetime(df_estoque['DATA'], format='%Y-%m-%d')\n",
    "df_estoque['DATA'] = df_estoque['DATA'].apply(lambda x: x.replace(year=2023))"
   ]
  },
  {
   "cell_type": "code",
   "execution_count": null,
   "metadata": {},
   "outputs": [],
   "source": [
    "df_estoque.to_csv('metas_estoque.csv')"
   ]
  }
 ],
 "metadata": {
  "kernelspec": {
   "display_name": "Python 3",
   "language": "python",
   "name": "python3"
  },
  "language_info": {
   "codemirror_mode": {
    "name": "ipython",
    "version": 3
   },
   "file_extension": ".py",
   "mimetype": "text/x-python",
   "name": "python",
   "nbconvert_exporter": "python",
   "pygments_lexer": "ipython3",
   "version": "3.10.3"
  }
 },
 "nbformat": 4,
 "nbformat_minor": 2
}
