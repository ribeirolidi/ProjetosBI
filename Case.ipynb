{
 "cells": [
  {
   "cell_type": "markdown",
   "id": "93a47107",
   "metadata": {},
   "source": [
    "# Análise exploratória dados de issues de atendimento"
   ]
  },
  {
   "cell_type": "markdown",
   "id": "c9f7029f",
   "metadata": {},
   "source": [
    "Importe de bibliotecas"
   ]
  },
  {
   "cell_type": "code",
   "execution_count": 1,
   "id": "fef8f3ec",
   "metadata": {},
   "outputs": [],
   "source": [
    "import pandas as pd\n",
    "import matplotlib.pyplot as plt\n",
    "import seaborn as sns\n",
    "import numpy as np"
   ]
  },
  {
   "cell_type": "markdown",
   "id": "03f70ccf",
   "metadata": {},
   "source": [
    "### Preparação dos dados"
   ]
  },
  {
   "cell_type": "markdown",
   "id": "704cfb36",
   "metadata": {},
   "source": [
    "Ler o aquivo CSV"
   ]
  },
  {
   "cell_type": "code",
   "execution_count": 2,
   "id": "3c752d04",
   "metadata": {},
   "outputs": [],
   "source": [
    "df_tag = pd.read_csv('de_para_tag_hierarquia.csv')\n",
    "df_issue  = pd.read_csv('issues_atendimento_.csv')"
   ]
  },
  {
   "cell_type": "markdown",
   "id": "e4e819cb",
   "metadata": {},
   "source": [
    "Visualiazação dos arquivos importados "
   ]
  },
  {
   "cell_type": "code",
   "execution_count": 3,
   "id": "e7e2965f",
   "metadata": {},
   "outputs": [
    {
     "data": {
      "text/html": [
       "<div>\n",
       "<style scoped>\n",
       "    .dataframe tbody tr th:only-of-type {\n",
       "        vertical-align: middle;\n",
       "    }\n",
       "\n",
       "    .dataframe tbody tr th {\n",
       "        vertical-align: top;\n",
       "    }\n",
       "\n",
       "    .dataframe thead th {\n",
       "        text-align: right;\n",
       "    }\n",
       "</style>\n",
       "<table border=\"1\" class=\"dataframe\">\n",
       "  <thead>\n",
       "    <tr style=\"text-align: right;\">\n",
       "      <th></th>\n",
       "      <th>dt_data</th>\n",
       "      <th>id_cliente</th>\n",
       "      <th>id_issue</th>\n",
       "      <th>canal</th>\n",
       "      <th>tag</th>\n",
       "    </tr>\n",
       "  </thead>\n",
       "  <tbody>\n",
       "    <tr>\n",
       "      <th>0</th>\n",
       "      <td>2024-10-07 17:32:50.000</td>\n",
       "      <td>22df4146-1b0b-42e1-bc64-1905e921a56a-765gh</td>\n",
       "      <td>8095572</td>\n",
       "      <td>chat</td>\n",
       "      <td>w3 - reclamacao - resultado analise de contest...</td>\n",
       "    </tr>\n",
       "    <tr>\n",
       "      <th>1</th>\n",
       "      <td>2024-12-03 19:09:43.000</td>\n",
       "      <td>019226ac-f859-7590-9cfe-56d56f5e8f59-765gh</td>\n",
       "      <td>9872055</td>\n",
       "      <td>chat</td>\n",
       "      <td>w3 - reclamacao - resultado analise de contest...</td>\n",
       "    </tr>\n",
       "    <tr>\n",
       "      <th>2</th>\n",
       "      <td>2024-10-16 18:26:47.000</td>\n",
       "      <td>c73c1daa-efd4-4a07-9671-1e52fb008601-765gh</td>\n",
       "      <td>8428710</td>\n",
       "      <td>chat</td>\n",
       "      <td>w3 - duvida - pix no credito</td>\n",
       "    </tr>\n",
       "    <tr>\n",
       "      <th>3</th>\n",
       "      <td>2024-12-12 15:34:49.000</td>\n",
       "      <td>01923e84-7191-7bf0-bd29-0aeb1417f4e1-765gh</td>\n",
       "      <td>10153733</td>\n",
       "      <td>chat</td>\n",
       "      <td>w3 - problema - desacordo comercial</td>\n",
       "    </tr>\n",
       "    <tr>\n",
       "      <th>4</th>\n",
       "      <td>2024-12-05 12:37:52.000</td>\n",
       "      <td>881b24fc-23d1-4dd3-80ab-00f636cecdfa-765gh</td>\n",
       "      <td>9934026</td>\n",
       "      <td>chat</td>\n",
       "      <td>wb-caf</td>\n",
       "    </tr>\n",
       "  </tbody>\n",
       "</table>\n",
       "</div>"
      ],
      "text/plain": [
       "                   dt_data                                  id_cliente  \\\n",
       "0  2024-10-07 17:32:50.000  22df4146-1b0b-42e1-bc64-1905e921a56a-765gh   \n",
       "1  2024-12-03 19:09:43.000  019226ac-f859-7590-9cfe-56d56f5e8f59-765gh   \n",
       "2  2024-10-16 18:26:47.000  c73c1daa-efd4-4a07-9671-1e52fb008601-765gh   \n",
       "3  2024-12-12 15:34:49.000  01923e84-7191-7bf0-bd29-0aeb1417f4e1-765gh   \n",
       "4  2024-12-05 12:37:52.000  881b24fc-23d1-4dd3-80ab-00f636cecdfa-765gh   \n",
       "\n",
       "   id_issue canal                                                tag  \n",
       "0   8095572  chat  w3 - reclamacao - resultado analise de contest...  \n",
       "1   9872055  chat  w3 - reclamacao - resultado analise de contest...  \n",
       "2   8428710  chat                       w3 - duvida - pix no credito  \n",
       "3  10153733  chat                w3 - problema - desacordo comercial  \n",
       "4   9934026  chat                                             wb-caf  "
      ]
     },
     "execution_count": 3,
     "metadata": {},
     "output_type": "execute_result"
    }
   ],
   "source": [
    "df_issue.head()"
   ]
  },
  {
   "cell_type": "code",
   "execution_count": 4,
   "id": "8c5f4350",
   "metadata": {
    "scrolled": true
   },
   "outputs": [
    {
     "data": {
      "text/html": [
       "<div>\n",
       "<style scoped>\n",
       "    .dataframe tbody tr th:only-of-type {\n",
       "        vertical-align: middle;\n",
       "    }\n",
       "\n",
       "    .dataframe tbody tr th {\n",
       "        vertical-align: top;\n",
       "    }\n",
       "\n",
       "    .dataframe thead th {\n",
       "        text-align: right;\n",
       "    }\n",
       "</style>\n",
       "<table border=\"1\" class=\"dataframe\">\n",
       "  <thead>\n",
       "    <tr style=\"text-align: right;\">\n",
       "      <th></th>\n",
       "      <th>tag</th>\n",
       "      <th>ds_hierarquia_a</th>\n",
       "      <th>ds_hierarquia_b</th>\n",
       "    </tr>\n",
       "  </thead>\n",
       "  <tbody>\n",
       "    <tr>\n",
       "      <th>0</th>\n",
       "      <td>w3 - solicitacao - 2 via cartao fraudado</td>\n",
       "      <td>Cartão</td>\n",
       "      <td>Segunda via cartão</td>\n",
       "    </tr>\n",
       "    <tr>\n",
       "      <th>1</th>\n",
       "      <td>wb-cdu</td>\n",
       "      <td>Cartão</td>\n",
       "      <td>Lançamentos duplicados</td>\n",
       "    </tr>\n",
       "    <tr>\n",
       "      <th>2</th>\n",
       "      <td>w3 - solicitacao - cancelar insatisfacao</td>\n",
       "      <td>Cartão</td>\n",
       "      <td>Cancelamento de conta</td>\n",
       "    </tr>\n",
       "    <tr>\n",
       "      <th>3</th>\n",
       "      <td>w3 - duvida - cancelamento de compra</td>\n",
       "      <td>Cartão</td>\n",
       "      <td>Cancelamento de compra no crédito</td>\n",
       "    </tr>\n",
       "    <tr>\n",
       "      <th>4</th>\n",
       "      <td>wb-cf</td>\n",
       "      <td>Cartão</td>\n",
       "      <td>Compensação fatura</td>\n",
       "    </tr>\n",
       "  </tbody>\n",
       "</table>\n",
       "</div>"
      ],
      "text/plain": [
       "                                        tag ds_hierarquia_a  \\\n",
       "0  w3 - solicitacao - 2 via cartao fraudado          Cartão   \n",
       "1                                    wb-cdu          Cartão   \n",
       "2  w3 - solicitacao - cancelar insatisfacao          Cartão   \n",
       "3      w3 - duvida - cancelamento de compra          Cartão   \n",
       "4                                     wb-cf          Cartão   \n",
       "\n",
       "                     ds_hierarquia_b  \n",
       "0                 Segunda via cartão  \n",
       "1             Lançamentos duplicados  \n",
       "2              Cancelamento de conta  \n",
       "3  Cancelamento de compra no crédito  \n",
       "4                 Compensação fatura  "
      ]
     },
     "execution_count": 4,
     "metadata": {},
     "output_type": "execute_result"
    }
   ],
   "source": [
    "df_tag.head()"
   ]
  },
  {
   "cell_type": "markdown",
   "id": "c3cefd13",
   "metadata": {},
   "source": [
    "Junção dos dados"
   ]
  },
  {
   "cell_type": "code",
   "execution_count": 5,
   "id": "e2a1b27f",
   "metadata": {},
   "outputs": [],
   "source": [
    "df = df_issue.merge(df_tag, on='tag', how='left')"
   ]
  },
  {
   "cell_type": "code",
   "execution_count": 6,
   "id": "9d081ba6",
   "metadata": {
    "scrolled": true
   },
   "outputs": [
    {
     "data": {
      "text/html": [
       "<div>\n",
       "<style scoped>\n",
       "    .dataframe tbody tr th:only-of-type {\n",
       "        vertical-align: middle;\n",
       "    }\n",
       "\n",
       "    .dataframe tbody tr th {\n",
       "        vertical-align: top;\n",
       "    }\n",
       "\n",
       "    .dataframe thead th {\n",
       "        text-align: right;\n",
       "    }\n",
       "</style>\n",
       "<table border=\"1\" class=\"dataframe\">\n",
       "  <thead>\n",
       "    <tr style=\"text-align: right;\">\n",
       "      <th></th>\n",
       "      <th>dt_data</th>\n",
       "      <th>id_cliente</th>\n",
       "      <th>id_issue</th>\n",
       "      <th>canal</th>\n",
       "      <th>tag</th>\n",
       "      <th>ds_hierarquia_a</th>\n",
       "      <th>ds_hierarquia_b</th>\n",
       "    </tr>\n",
       "  </thead>\n",
       "  <tbody>\n",
       "    <tr>\n",
       "      <th>0</th>\n",
       "      <td>2024-10-07 17:32:50.000</td>\n",
       "      <td>22df4146-1b0b-42e1-bc64-1905e921a56a-765gh</td>\n",
       "      <td>8095572</td>\n",
       "      <td>chat</td>\n",
       "      <td>w3 - reclamacao - resultado analise de contest...</td>\n",
       "      <td>Fraude</td>\n",
       "      <td>Resultado análise de fraude</td>\n",
       "    </tr>\n",
       "    <tr>\n",
       "      <th>1</th>\n",
       "      <td>2024-12-03 19:09:43.000</td>\n",
       "      <td>019226ac-f859-7590-9cfe-56d56f5e8f59-765gh</td>\n",
       "      <td>9872055</td>\n",
       "      <td>chat</td>\n",
       "      <td>w3 - reclamacao - resultado analise de contest...</td>\n",
       "      <td>Fraude</td>\n",
       "      <td>Resultado análise de fraude</td>\n",
       "    </tr>\n",
       "    <tr>\n",
       "      <th>2</th>\n",
       "      <td>2024-10-16 18:26:47.000</td>\n",
       "      <td>c73c1daa-efd4-4a07-9671-1e52fb008601-765gh</td>\n",
       "      <td>8428710</td>\n",
       "      <td>chat</td>\n",
       "      <td>w3 - duvida - pix no credito</td>\n",
       "      <td>Cartão</td>\n",
       "      <td>Todos os itens de pix no crédito</td>\n",
       "    </tr>\n",
       "    <tr>\n",
       "      <th>3</th>\n",
       "      <td>2024-12-12 15:34:49.000</td>\n",
       "      <td>01923e84-7191-7bf0-bd29-0aeb1417f4e1-765gh</td>\n",
       "      <td>10153733</td>\n",
       "      <td>chat</td>\n",
       "      <td>w3 - problema - desacordo comercial</td>\n",
       "      <td>Cartão</td>\n",
       "      <td>Problema com compra</td>\n",
       "    </tr>\n",
       "    <tr>\n",
       "      <th>4</th>\n",
       "      <td>2024-12-05 12:37:52.000</td>\n",
       "      <td>881b24fc-23d1-4dd3-80ab-00f636cecdfa-765gh</td>\n",
       "      <td>9934026</td>\n",
       "      <td>chat</td>\n",
       "      <td>wb-caf</td>\n",
       "      <td>Cartão</td>\n",
       "      <td>Compensação fatura</td>\n",
       "    </tr>\n",
       "  </tbody>\n",
       "</table>\n",
       "</div>"
      ],
      "text/plain": [
       "                   dt_data                                  id_cliente  \\\n",
       "0  2024-10-07 17:32:50.000  22df4146-1b0b-42e1-bc64-1905e921a56a-765gh   \n",
       "1  2024-12-03 19:09:43.000  019226ac-f859-7590-9cfe-56d56f5e8f59-765gh   \n",
       "2  2024-10-16 18:26:47.000  c73c1daa-efd4-4a07-9671-1e52fb008601-765gh   \n",
       "3  2024-12-12 15:34:49.000  01923e84-7191-7bf0-bd29-0aeb1417f4e1-765gh   \n",
       "4  2024-12-05 12:37:52.000  881b24fc-23d1-4dd3-80ab-00f636cecdfa-765gh   \n",
       "\n",
       "   id_issue canal                                                tag  \\\n",
       "0   8095572  chat  w3 - reclamacao - resultado analise de contest...   \n",
       "1   9872055  chat  w3 - reclamacao - resultado analise de contest...   \n",
       "2   8428710  chat                       w3 - duvida - pix no credito   \n",
       "3  10153733  chat                w3 - problema - desacordo comercial   \n",
       "4   9934026  chat                                             wb-caf   \n",
       "\n",
       "  ds_hierarquia_a                   ds_hierarquia_b  \n",
       "0          Fraude       Resultado análise de fraude  \n",
       "1          Fraude       Resultado análise de fraude  \n",
       "2          Cartão  Todos os itens de pix no crédito  \n",
       "3          Cartão               Problema com compra  \n",
       "4          Cartão                Compensação fatura  "
      ]
     },
     "execution_count": 6,
     "metadata": {},
     "output_type": "execute_result"
    }
   ],
   "source": [
    "df.head()"
   ]
  },
  {
   "cell_type": "markdown",
   "id": "ed1c47ae",
   "metadata": {},
   "source": [
    "Criação de novas colunas para enriquecimento da análise"
   ]
  },
  {
   "cell_type": "code",
   "execution_count": 7,
   "id": "008c41bf",
   "metadata": {},
   "outputs": [],
   "source": [
    "# Converter a coluna dt_data em datetime para permitir a criação de colunas de detalhamento\n",
    "df['dt_data'] = pd.to_datetime(df['dt_data'])"
   ]
  },
  {
   "cell_type": "code",
   "execution_count": 8,
   "id": "d06b9c78",
   "metadata": {},
   "outputs": [],
   "source": [
    "#criação de novas colunas\n",
    "df['hora'] = df['dt_data'].dt.hour"
   ]
  },
  {
   "cell_type": "markdown",
   "id": "5d11425a",
   "metadata": {},
   "source": [
    "### 1. Análise Exploratória inicial"
   ]
  },
  {
   "cell_type": "code",
   "execution_count": 9,
   "id": "4f1de9a3",
   "metadata": {
    "scrolled": true
   },
   "outputs": [
    {
     "name": "stdout",
     "output_type": "stream",
     "text": [
      "Formato do dataset: (804302, 8)\n",
      "\n",
      "Colunas disponíveis: ['dt_data', 'id_cliente', 'id_issue', 'canal', 'tag', 'ds_hierarquia_a', 'ds_hierarquia_b', 'hora']\n"
     ]
    }
   ],
   "source": [
    "print(\"Formato do dataset:\", df.shape)\n",
    "print(\"\\nColunas disponíveis:\", df.columns.tolist())"
   ]
  },
  {
   "cell_type": "markdown",
   "id": "5af4f537",
   "metadata": {},
   "source": [
    "Informações gerais"
   ]
  },
  {
   "cell_type": "code",
   "execution_count": 10,
   "id": "cf9086fc",
   "metadata": {
    "scrolled": false
   },
   "outputs": [
    {
     "name": "stdout",
     "output_type": "stream",
     "text": [
      "<class 'pandas.core.frame.DataFrame'>\n",
      "Int64Index: 804302 entries, 0 to 804301\n",
      "Data columns (total 8 columns):\n",
      " #   Column           Non-Null Count   Dtype         \n",
      "---  ------           --------------   -----         \n",
      " 0   dt_data          804302 non-null  datetime64[ns]\n",
      " 1   id_cliente       804293 non-null  object        \n",
      " 2   id_issue         804302 non-null  int64         \n",
      " 3   canal            804302 non-null  object        \n",
      " 4   tag              804302 non-null  object        \n",
      " 5   ds_hierarquia_a  804302 non-null  object        \n",
      " 6   ds_hierarquia_b  804302 non-null  object        \n",
      " 7   hora             804302 non-null  int64         \n",
      "dtypes: datetime64[ns](1), int64(2), object(5)\n",
      "memory usage: 55.2+ MB\n"
     ]
    }
   ],
   "source": [
    "df.info()"
   ]
  },
  {
   "cell_type": "markdown",
   "id": "4bb8e073",
   "metadata": {},
   "source": [
    "Verificar dados nulos"
   ]
  },
  {
   "cell_type": "code",
   "execution_count": 12,
   "id": "6b93e584",
   "metadata": {},
   "outputs": [
    {
     "name": "stdout",
     "output_type": "stream",
     "text": [
      "\n",
      "Dados ausentes:\n",
      "dt_data            0\n",
      "id_cliente         9\n",
      "id_issue           0\n",
      "canal              0\n",
      "tag                0\n",
      "ds_hierarquia_a    0\n",
      "ds_hierarquia_b    0\n",
      "hora               0\n",
      "dtype: int64\n"
     ]
    }
   ],
   "source": [
    "print(\"\\nDados ausentes:\")\n",
    "print(df.isnull().sum())"
   ]
  },
  {
   "cell_type": "markdown",
   "id": "727f6235",
   "metadata": {},
   "source": [
    "### 2. Análise Descritiva"
   ]
  },
  {
   "cell_type": "code",
   "execution_count": 13,
   "id": "966e75ed",
   "metadata": {},
   "outputs": [
    {
     "data": {
      "image/png": "[encoded data removed]",
      "text/plain": [
       "<Figure size 720x432 with 1 Axes>"
      ]
     },
     "metadata": {
      "needs_background": "light"
     },
     "output_type": "display_data"
    }
   ],
   "source": [
    "# Agrupar e contar quantidade de issues por cliente\n",
    "contatos_por_cliente = df.groupby('id_cliente')['id_issue'].nunique().reset_index()\n",
    "contatos_por_cliente.rename(columns={'id_issue': 'qtd_issues'}, inplace=True)\n",
    "\n",
    "# Plotar histograma com linha da média e mediana\n",
    "plt.figure(figsize=(10, 6))\n",
    "sns.histplot(contatos_por_cliente['qtd_issues'], bins=30, kde=True, color='skyblue')\n",
    "\n",
    "# Linhas de média e mediana\n",
    "media = contatos_por_cliente['qtd_issues'].mean()\n",
    "mediana = contatos_por_cliente['qtd_issues'].median()\n",
    "plt.axvline(media, color='red', linestyle='--', label=f'Média: {media:.2f}')\n",
    "plt.axvline(mediana, color='green', linestyle='--', label=f'Mediana: {mediana:.2f}')\n",
    "\n",
    "# Título e legendas\n",
    "plt.title('Distribuição de Contatos por Cliente')\n",
    "plt.xlabel('Quantidade de Issues')\n",
    "plt.ylabel('Número de Clientes')\n",
    "plt.legend()\n",
    "plt.tight_layout()\n",
    "plt.show()"
   ]
  },
  {
   "cell_type": "markdown",
   "id": "4582bf43",
   "metadata": {},
   "source": [
    "O objetivo do gráfico acima é analisar a distribuição dos contatos por cliente e entender se existe uma distribuição normal ou não, é possível identificar pelo gráfico que não é aderente a distribuição normal e dessa forma a melhor análise é feita com a mediana"
   ]
  },
  {
   "cell_type": "code",
   "execution_count": 14,
   "id": "6837b829",
   "metadata": {
    "scrolled": true
   },
   "outputs": [
    {
     "name": "stdout",
     "output_type": "stream",
     "text": [
      "Mediana de contatos por cliente: 1.0\n"
     ]
    }
   ],
   "source": [
    "print(\"Mediana de contatos por cliente:\", df.groupby('id_cliente')['id_issue'].nunique().median())"
   ]
  },
  {
   "cell_type": "markdown",
   "id": "ecb9f2e4",
   "metadata": {},
   "source": [
    "Média e mediana de contato por TAG"
   ]
  },
  {
   "cell_type": "code",
   "execution_count": 15,
   "id": "9af294ef",
   "metadata": {},
   "outputs": [
    {
     "data": {
      "image/png": "[encoded data removed]",
      "text/plain": [
       "<Figure size 864x432 with 1 Axes>"
      ]
     },
     "metadata": {
      "needs_background": "light"
     },
     "output_type": "display_data"
    }
   ],
   "source": [
    "# Agrupar e contar quantidade de issues por tag\n",
    "issues_por_tag = df.groupby('tag')['id_issue'].nunique().reset_index()\n",
    "issues_por_tag.rename(columns={'id_issue': 'qtd_issues'}, inplace=True)\n",
    "\n",
    "# Plotar histograma com linha de média e mediana\n",
    "plt.figure(figsize=(12, 6))\n",
    "sns.histplot(issues_por_tag['qtd_issues'], bins=30, kde=True, color='lightcoral')\n",
    "\n",
    "# Linhas de média e mediana\n",
    "media = issues_por_tag['qtd_issues'].mean()\n",
    "mediana = issues_por_tag['qtd_issues'].median()\n",
    "plt.axvline(media, color='blue', linestyle='--', label=f'Média: {media:.2f}')\n",
    "plt.axvline(mediana, color='purple', linestyle='--', label=f'Mediana: {mediana:.2f}')\n",
    "\n",
    "# Título e eixos\n",
    "plt.title('Distribuição de Contatos por Tag')\n",
    "plt.xlabel('Quantidade de Issues')\n",
    "plt.ylabel('Número de Tags')\n",
    "plt.legend()\n",
    "plt.tight_layout()\n",
    "plt.show()"
   ]
  },
  {
   "cell_type": "markdown",
   "id": "e2fd277f",
   "metadata": {},
   "source": [
    "Da mesma forma que o anterior, a análise por tag também não apresenta uma distribuição normal, tendo uma concentração em alguns itens. A melhor análise nesse caso, também é utilizando a mediana"
   ]
  },
  {
   "cell_type": "code",
   "execution_count": 16,
   "id": "a2c79b29",
   "metadata": {},
   "outputs": [
    {
     "name": "stdout",
     "output_type": "stream",
     "text": [
      "Mediana de contatos por cliente: 326.0\n"
     ]
    }
   ],
   "source": [
    "print(\"Mediana de contatos por cliente:\", df.groupby('tag')['id_issue'].nunique().median())"
   ]
  },
  {
   "cell_type": "markdown",
   "id": "ff05b7b3",
   "metadata": {},
   "source": [
    "Distribuição das TAGs"
   ]
  },
  {
   "cell_type": "code",
   "execution_count": 17,
   "id": "90576a19",
   "metadata": {
    "scrolled": false
   },
   "outputs": [
    {
     "name": "stdout",
     "output_type": "stream",
     "text": [
      "\n",
      "Top 10 TAGs:\n",
      "w3 - duvida - estorno                                  34452\n",
      "w3 - problema - nao reconhece compra online            29273\n",
      "w3 - duvida - detalhamento de faturas                  22098\n",
      "w3 - solicitacao - cancelar limite baixo               18214\n",
      "w3 - duvida - nao elegivel pix credito                 17543\n",
      "w3 - solicitacao - cancelar motivos pessoais           17019\n",
      "w3 - reclamacao - desconhece recebimento               15760\n",
      "w3 - duvida - antecipacao fatura                       14430\n",
      "w3 - solicitacao - resultado analise de contestacao    14085\n",
      "w3 - duvida - valor total da fatura                    13473\n",
      "Name: tag, dtype: int64\n"
     ]
    }
   ],
   "source": [
    "\n",
    "tag_counts = df['tag'].value_counts()\n",
    "print(\"\\nTop 10 TAGs:\")\n",
    "print(tag_counts.head(10))"
   ]
  },
  {
   "cell_type": "code",
   "execution_count": 18,
   "id": "7a3c9672",
   "metadata": {},
   "outputs": [
    {
     "name": "stdout",
     "output_type": "stream",
     "text": [
      "\n",
      "Top 10 Hierarquia B:\n",
      "Cancelamento de conta                      78871\n",
      "Não reconhecimento de compra no crédito    66988\n",
      "Cancelamento de compra no crédito          49846\n",
      "Segunda via cartão                         45545\n",
      "Compensação fatura                         42968\n",
      "Informações sobre fatura                   40495\n",
      "Desbloqueio de cartão                      26725\n",
      "Todos os itens de pix no crédito           26220\n",
      "Recusa de compra                           24811\n",
      "Dúvidas sobre pagamento de fatura          24255\n",
      "Name: ds_hierarquia_b, dtype: int64\n"
     ]
    }
   ],
   "source": [
    "tag_counts = df['ds_hierarquia_b'].value_counts()\n",
    "print(\"\\nTop 10 Hierarquia B:\")\n",
    "print(tag_counts.head(10))"
   ]
  },
  {
   "cell_type": "code",
   "execution_count": 19,
   "id": "70bdb6fa",
   "metadata": {},
   "outputs": [
    {
     "name": "stdout",
     "output_type": "stream",
     "text": [
      "\n",
      "Quantidade de contato por Hierarquia A:\n",
      "Cartão         590063\n",
      "Fraude         116093\n",
      "Conta           87569\n",
      "Empréstimos     10577\n",
      "Name: ds_hierarquia_a, dtype: int64\n"
     ]
    }
   ],
   "source": [
    "tag_counts = df['ds_hierarquia_a'].value_counts()\n",
    "print(\"\\nQuantidade de contato por Hierarquia A:\")\n",
    "print(tag_counts.head())\n"
   ]
  },
  {
   "cell_type": "markdown",
   "id": "7a905281",
   "metadata": {},
   "source": [
    "Distribuição dos canais"
   ]
  },
  {
   "cell_type": "code",
   "execution_count": 20,
   "id": "3a5984b2",
   "metadata": {},
   "outputs": [
    {
     "name": "stdout",
     "output_type": "stream",
     "text": [
      "\n",
      "Top canais:\n",
      "chat     804296\n",
      "email         6\n",
      "Name: canal, dtype: int64\n"
     ]
    }
   ],
   "source": [
    "canal_counts = df['canal'].value_counts()\n",
    "print(\"\\nTop canais:\")\n",
    "print(canal_counts)"
   ]
  },
  {
   "cell_type": "markdown",
   "id": "3ff602d0",
   "metadata": {},
   "source": [
    "### 3. Criação da Flag de Recontato"
   ]
  },
  {
   "cell_type": "markdown",
   "id": "07058706",
   "metadata": {},
   "source": [
    "Considera recontato todo cliente que entrou em contato pelo mesmo motivo (tag) dentro de 24h"
   ]
  },
  {
   "cell_type": "code",
   "execution_count": 21,
   "id": "31b82930",
   "metadata": {},
   "outputs": [],
   "source": [
    "# Ordenar por cliente, tag e data\n",
    "df = df.sort_values(by=['id_cliente', 'tag', 'dt_data'])"
   ]
  },
  {
   "cell_type": "code",
   "execution_count": 22,
   "id": "690bea57",
   "metadata": {},
   "outputs": [],
   "source": [
    "# Criar uma flag de recontato\n",
    "df['tempo_entre_contatos'] = df.groupby(['id_cliente', 'tag'])['dt_data'].diff().dt.total_seconds() / 3600"
   ]
  },
  {
   "cell_type": "code",
   "execution_count": 23,
   "id": "1a27ccde",
   "metadata": {},
   "outputs": [],
   "source": [
    "# Se o tempo entre contatos for menor ou igual a 24h, é recontato\n",
    "df['flag_recontato_24h'] = np.where((df['tempo_entre_contatos'] <= 24) & (df['tempo_entre_contatos'] > 0), 1, 0)"
   ]
  },
  {
   "cell_type": "markdown",
   "id": "e8d77007",
   "metadata": {},
   "source": [
    "Visualizar os dados"
   ]
  },
  {
   "cell_type": "code",
   "execution_count": 24,
   "id": "f581b51e",
   "metadata": {
    "scrolled": false
   },
   "outputs": [
    {
     "data": {
      "text/html": [
       "<div>\n",
       "<style scoped>\n",
       "    .dataframe tbody tr th:only-of-type {\n",
       "        vertical-align: middle;\n",
       "    }\n",
       "\n",
       "    .dataframe tbody tr th {\n",
       "        vertical-align: top;\n",
       "    }\n",
       "\n",
       "    .dataframe thead th {\n",
       "        text-align: right;\n",
       "    }\n",
       "</style>\n",
       "<table border=\"1\" class=\"dataframe\">\n",
       "  <thead>\n",
       "    <tr style=\"text-align: right;\">\n",
       "      <th></th>\n",
       "      <th>id_cliente</th>\n",
       "      <th>tag</th>\n",
       "      <th>dt_data</th>\n",
       "      <th>tempo_entre_contatos</th>\n",
       "      <th>flag_recontato_24h</th>\n",
       "    </tr>\n",
       "  </thead>\n",
       "  <tbody>\n",
       "    <tr>\n",
       "      <th>689991</th>\n",
       "      <td>b9f5a7e4-01da-44a0-8847-6c2c2b3d4535-765gh</td>\n",
       "      <td>w3 - duvida - estorno</td>\n",
       "      <td>2024-12-30 07:12:55</td>\n",
       "      <td>2156.971944</td>\n",
       "      <td>0</td>\n",
       "    </tr>\n",
       "    <tr>\n",
       "      <th>78114</th>\n",
       "      <td>487a22ef-686f-41af-bf00-35bcc1a67520-765gh</td>\n",
       "      <td>w3 - problema - compra nao autorizada presencial</td>\n",
       "      <td>2024-12-31 10:57:58</td>\n",
       "      <td>2137.295278</td>\n",
       "      <td>0</td>\n",
       "    </tr>\n",
       "    <tr>\n",
       "      <th>803153</th>\n",
       "      <td>95876584-cf94-4b8e-abe6-6831f55dc68b-765gh</td>\n",
       "      <td>w3 - duvida - detalhamento de faturas</td>\n",
       "      <td>2024-12-30 17:14:07</td>\n",
       "      <td>2137.049722</td>\n",
       "      <td>0</td>\n",
       "    </tr>\n",
       "    <tr>\n",
       "      <th>356765</th>\n",
       "      <td>4f783ba4-aa77-424f-87fc-2223e297501a-765gh</td>\n",
       "      <td>w3 - duvida - compensacao bancaria</td>\n",
       "      <td>2024-12-30 10:18:08</td>\n",
       "      <td>2133.094167</td>\n",
       "      <td>0</td>\n",
       "    </tr>\n",
       "    <tr>\n",
       "      <th>716774</th>\n",
       "      <td>4f67073e-640c-4448-a0ae-8bba46d7dce2-765gh</td>\n",
       "      <td>w3 - duvida - tarifas e encargos atraso</td>\n",
       "      <td>2024-12-29 18:13:37</td>\n",
       "      <td>2097.551944</td>\n",
       "      <td>0</td>\n",
       "    </tr>\n",
       "    <tr>\n",
       "      <th>420664</th>\n",
       "      <td>6504253b-d2f9-489f-b2d6-72e654662b60-765gh</td>\n",
       "      <td>w3 - duvida - nao elegivel emprestimo pessoal</td>\n",
       "      <td>2024-12-28 15:21:56</td>\n",
       "      <td>2095.167778</td>\n",
       "      <td>0</td>\n",
       "    </tr>\n",
       "    <tr>\n",
       "      <th>347115</th>\n",
       "      <td>b7e70470-d69e-4276-8d02-302ca7c84e83-765gh</td>\n",
       "      <td>w3 - duvida - antecipacao fatura</td>\n",
       "      <td>2024-12-30 17:55:57</td>\n",
       "      <td>2092.319167</td>\n",
       "      <td>0</td>\n",
       "    </tr>\n",
       "    <tr>\n",
       "      <th>219352</th>\n",
       "      <td>b21a199e-adda-43ba-bdb7-98604245d089-765gh</td>\n",
       "      <td>w3 - duvida - estorno</td>\n",
       "      <td>2024-12-29 11:48:55</td>\n",
       "      <td>2088.680556</td>\n",
       "      <td>0</td>\n",
       "    </tr>\n",
       "    <tr>\n",
       "      <th>265949</th>\n",
       "      <td>d92beb9f-2b9f-4884-bbac-06027f9614e1-765gh</td>\n",
       "      <td>w3 - solicitacao - comprovante pix</td>\n",
       "      <td>2024-12-29 16:45:45</td>\n",
       "      <td>2088.431667</td>\n",
       "      <td>0</td>\n",
       "    </tr>\n",
       "    <tr>\n",
       "      <th>796111</th>\n",
       "      <td>434f09cc-65ac-45b4-af1d-4ab5b7a36e62-765gh</td>\n",
       "      <td>w3 - solicitacao - cancelamento travado</td>\n",
       "      <td>2024-12-29 14:36:47</td>\n",
       "      <td>2088.385278</td>\n",
       "      <td>0</td>\n",
       "    </tr>\n",
       "  </tbody>\n",
       "</table>\n",
       "</div>"
      ],
      "text/plain": [
       "                                        id_cliente  \\\n",
       "689991  b9f5a7e4-01da-44a0-8847-6c2c2b3d4535-765gh   \n",
       "78114   487a22ef-686f-41af-bf00-35bcc1a67520-765gh   \n",
       "803153  95876584-cf94-4b8e-abe6-6831f55dc68b-765gh   \n",
       "356765  4f783ba4-aa77-424f-87fc-2223e297501a-765gh   \n",
       "716774  4f67073e-640c-4448-a0ae-8bba46d7dce2-765gh   \n",
       "420664  6504253b-d2f9-489f-b2d6-72e654662b60-765gh   \n",
       "347115  b7e70470-d69e-4276-8d02-302ca7c84e83-765gh   \n",
       "219352  b21a199e-adda-43ba-bdb7-98604245d089-765gh   \n",
       "265949  d92beb9f-2b9f-4884-bbac-06027f9614e1-765gh   \n",
       "796111  434f09cc-65ac-45b4-af1d-4ab5b7a36e62-765gh   \n",
       "\n",
       "                                                     tag             dt_data  \\\n",
       "689991                             w3 - duvida - estorno 2024-12-30 07:12:55   \n",
       "78114   w3 - problema - compra nao autorizada presencial 2024-12-31 10:57:58   \n",
       "803153             w3 - duvida - detalhamento de faturas 2024-12-30 17:14:07   \n",
       "356765                w3 - duvida - compensacao bancaria 2024-12-30 10:18:08   \n",
       "716774           w3 - duvida - tarifas e encargos atraso 2024-12-29 18:13:37   \n",
       "420664     w3 - duvida - nao elegivel emprestimo pessoal 2024-12-28 15:21:56   \n",
       "347115                  w3 - duvida - antecipacao fatura 2024-12-30 17:55:57   \n",
       "219352                             w3 - duvida - estorno 2024-12-29 11:48:55   \n",
       "265949                w3 - solicitacao - comprovante pix 2024-12-29 16:45:45   \n",
       "796111           w3 - solicitacao - cancelamento travado 2024-12-29 14:36:47   \n",
       "\n",
       "        tempo_entre_contatos  flag_recontato_24h  \n",
       "689991           2156.971944                   0  \n",
       "78114            2137.295278                   0  \n",
       "803153           2137.049722                   0  \n",
       "356765           2133.094167                   0  \n",
       "716774           2097.551944                   0  \n",
       "420664           2095.167778                   0  \n",
       "347115           2092.319167                   0  \n",
       "219352           2088.680556                   0  \n",
       "265949           2088.431667                   0  \n",
       "796111           2088.385278                   0  "
      ]
     },
     "execution_count": 24,
     "metadata": {},
     "output_type": "execute_result"
    }
   ],
   "source": [
    "# Visualizar\n",
    "df[['id_cliente', 'tag', 'dt_data', 'tempo_entre_contatos', 'flag_recontato_24h']]\\\n",
    "  .sort_values(by='tempo_entre_contatos', ascending=False)\\\n",
    "  .head(10)"
   ]
  },
  {
   "cell_type": "code",
   "execution_count": 25,
   "id": "d7093a7a",
   "metadata": {},
   "outputs": [
    {
     "name": "stdout",
     "output_type": "stream",
     "text": [
      "\n",
      "Quantidade total de recontatos em até 24 horas: 29045\n"
     ]
    }
   ],
   "source": [
    "\n",
    "print(\"\\nQuantidade total de recontatos em até 24 horas:\", df['flag_recontato_24h'].sum())"
   ]
  },
  {
   "cell_type": "markdown",
   "id": "f5e4d793",
   "metadata": {},
   "source": [
    "### 4. Exportar Dados enriquecidos"
   ]
  },
  {
   "cell_type": "code",
   "execution_count": 26,
   "id": "cca19e14",
   "metadata": {},
   "outputs": [],
   "source": [
    "df.to_csv('analise_contatos.csv', index=False, encoding='utf-8-sig')"
   ]
  }
 ],
 "metadata": {
  "kernelspec": {
   "display_name": "Python 3 (ipykernel)",
   "language": "python",
   "name": "python3"
  },
  "language_info": {
   "codemirror_mode": {
    "name": "ipython",
    "version": 3
   },
   "file_extension": ".py",
   "mimetype": "text/x-python",
   "name": "python",
   "nbconvert_exporter": "python",
   "pygments_lexer": "ipython3",
   "version": "3.9.7"
  }
 },
 "nbformat": 4,
 "nbformat_minor": 5
}
